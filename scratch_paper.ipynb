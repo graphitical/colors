{
 "cells": [
  {
   "cell_type": "code",
   "execution_count": 46,
   "metadata": {},
   "outputs": [],
   "source": [
    "import numpy as np\n",
    "import matplotlib.pyplot as plt\n",
    "import scipy.constants as const\n",
    "from scipy import optimize"
   ]
  },
  {
   "cell_type": "code",
   "execution_count": 34,
   "metadata": {},
   "outputs": [],
   "source": [
    "lam_0 = np.linspace(200e-9,10000e-9); # nanometer\n",
    "c0 = 299792458;\n",
    "freq = c0 / lam_0\n",
    "h = 6.626e-34;\n",
    "T = 5000;\n",
    "k = 1.3806e-23;\n",
    "\n",
    "\n",
    "B1 = 2 * h * freq ** 3 / c0 ** 2 * 1 / (np.exp(h * freq / k / T) - 1)\n",
    "B2 = 2 * h * c0 / lam_0 ** 3 * 1 / (np.exp(h * c0 / lam_0 / k / T) - 1)"
   ]
  },
  {
   "cell_type": "code",
   "execution_count": 35,
   "metadata": {},
   "outputs": [
    {
     "data": {
      "text/plain": [
       "[<matplotlib.lines.Line2D at 0x1d58233fda0>]"
      ]
     },
     "execution_count": 35,
     "metadata": {},
     "output_type": "execute_result"
    },
    {
     "data": {
      "image/png": "[encoded data removed]",
      "text/plain": [
       "<Figure size 432x288 with 1 Axes>"
      ]
     },
     "metadata": {
      "needs_background": "light"
     },
     "output_type": "display_data"
    }
   ],
   "source": [
    "plt.plot(lam_0*1e9,B1)\n",
    "plt.plot(lam_0*1e9,B2)"
   ]
  },
  {
   "cell_type": "code",
   "execution_count": 40,
   "metadata": {},
   "outputs": [
    {
     "data": {
      "text/plain": [
       "array([ True,  True,  True,  True,  True,  True,  True,  True,  True,\n",
       "        True,  True,  True,  True,  True,  True,  True,  True,  True,\n",
       "        True,  True,  True,  True,  True,  True,  True,  True,  True,\n",
       "        True,  True,  True,  True,  True,  True,  True,  True,  True,\n",
       "        True,  True,  True,  True,  True,  True,  True,  True,  True,\n",
       "        True,  True,  True,  True,  True])"
      ]
     },
     "execution_count": 40,
     "metadata": {},
     "output_type": "execute_result"
    }
   ],
   "source": [
    "abs(B1-B2)<np.finfo(np.float32).eps"
   ]
  },
  {
   "cell_type": "code",
   "execution_count": 48,
   "metadata": {},
   "outputs": [
    {
     "data": {
      "text/plain": [
       "[<matplotlib.lines.Line2D at 0x1d582d62080>]"
      ]
     },
     "execution_count": 48,
     "metadata": {},
     "output_type": "execute_result"
    },
    {
     "data": {
      "image/png": "[encoded data removed]",
      "text/plain": [
       "<Figure size 432x288 with 1 Axes>"
      ]
     },
     "metadata": {
      "needs_background": "light"
     },
     "output_type": "display_data"
    }
   ],
   "source": [
    "def lognorm(xin,A,B,mu,sigma):\n",
    "    return A*1/xin * 1/sigma/np.sqrt(2*np.pi) * np.exp(-(np.log(xin-B) - mu)**2/2/sigma**2)\n",
    "\n",
    "def radiator(wavelength,temperature):\n",
    "    h  = const.h; # Planck constant\n",
    "    c0 = const.c; # Speed of light\n",
    "    k  = const.k; # Boltzmann constant\n",
    "    return 2*h*c0/(wavelength**3) * (np.exp(h*c0/wavelength/k/T)-1)**(-1)\n",
    "\n",
    "plt.plot(lam_0,radiator(lam_0,2000))\n",
    "# popt, pcov = optimize.curve_fit(lognorm,wavelength,lamp,p0=(200,250,7,.6))\n",
    "# print('A, B, mu, sigma:', popt)\n",
    "# plt.plot(wavelength,lamp);\n",
    "# plt.plot(wavelength,lognorm(wavelength, *popt));\n",
    "# plt.title('Spectral Radiance');\n",
    "# plt.xlabel('Wavelength (nm)');\n",
    "# plt.ylabel('Spectral Radiance (W/m^2/sr/nm)');\n",
    "# plt.legend(['Incandescent Bulb','Fit Curve']);"
   ]
  },
  {
   "cell_type": "code",
   "execution_count": 44,
   "metadata": {},
   "outputs": [
    {
     "data": {
      "text/plain": [
       "1.38064852e-23"
      ]
     },
     "execution_count": 44,
     "metadata": {},
     "output_type": "execute_result"
    }
   ],
   "source": [
    "const.k"
   ]
  },
  {
   "cell_type": "code",
   "execution_count": null,
   "metadata": {},
   "outputs": [],
   "source": []
  }
 ],
 "metadata": {
  "kernelspec": {
   "display_name": "Python 3",
   "language": "python",
   "name": "python3"
  },
  "language_info": {
   "codemirror_mode": {
    "name": "ipython",
    "version": 3
   },
   "file_extension": ".py",
   "mimetype": "text/x-python",
   "name": "python",
   "nbconvert_exporter": "python",
   "pygments_lexer": "ipython3",
   "version": "3.7.2"
  }
 },
 "nbformat": 4,
 "nbformat_minor": 2
}
